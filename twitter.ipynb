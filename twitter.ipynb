{
 "cells": [
  {
   "cell_type": "markdown",
   "id": "associate-mailing",
   "metadata": {},
   "source": [
    "# Getting twitter information\n",
    "## By:Lindsay Gillespie\n",
    "### Im going to be using barbie's twitter or @Barbie"
   ]
  },
  {
   "cell_type": "code",
   "execution_count": 10,
   "id": "described-cologne",
   "metadata": {},
   "outputs": [
    {
     "name": "stdout",
     "output_type": "stream",
     "text": [
      "Status(_api=<tweepy.api.API object at 0x0000015BCCFACBE0>, _json={'created_at': 'Tue Feb 02 18:55:54 +0000 2021', 'id': 1356677745338638338, 'id_str': '1356677745338638338', 'full_text': \"@Target Don't have to tell me twice💆💅📘\", 'truncated': False, 'display_text_range': [8, 38], 'entities': {'hashtags': [], 'symbols': [], 'user_mentions': [{'screen_name': 'Target', 'name': 'Target', 'id': 89084561, 'id_str': '89084561', 'indices': [0, 7]}], 'urls': []}, 'source': '<a href=\"https://mobile.twitter.com\" rel=\"nofollow\">Twitter Web App</a>', 'in_reply_to_status_id': 1356675091820609537, 'in_reply_to_status_id_str': '1356675091820609537', 'in_reply_to_user_id': 89084561, 'in_reply_to_user_id_str': '89084561', 'in_reply_to_screen_name': 'Target', 'user': {'id': 19005152, 'id_str': '19005152', 'name': 'Barbie', 'screen_name': 'Barbie', 'location': 'Malibu, CA', 'description': 'https://t.co/NxW1qyhXYm', 'url': None, 'entities': {'description': {'urls': [{'url': 'https://t.co/NxW1qyhXYm', 'expanded_url': 'http://barbie.com/diversity', 'display_url': 'barbie.com/diversity', 'indices': [0, 23]}]}}, 'protected': False, 'followers_count': 280114, 'friends_count': 359, 'listed_count': 1275, 'created_at': 'Thu Jan 15 01:20:18 +0000 2009', 'favourites_count': 10294, 'utc_offset': None, 'time_zone': None, 'geo_enabled': True, 'verified': True, 'statuses_count': 11074, 'lang': None, 'contributors_enabled': False, 'is_translator': False, 'is_translation_enabled': False, 'profile_background_color': 'FFFFFF', 'profile_background_image_url': 'http://abs.twimg.com/images/themes/theme1/bg.png', 'profile_background_image_url_https': 'https://abs.twimg.com/images/themes/theme1/bg.png', 'profile_background_tile': True, 'profile_image_url': 'http://pbs.twimg.com/profile_images/1356305724935000064/Guzq57cm_normal.jpg', 'profile_image_url_https': 'https://pbs.twimg.com/profile_images/1356305724935000064/Guzq57cm_normal.jpg', 'profile_banner_url': 'https://pbs.twimg.com/profile_banners/19005152/1612203459', 'profile_link_color': 'E0218A', 'profile_sidebar_border_color': 'FFFFFF', 'profile_sidebar_fill_color': 'F8A5CF', 'profile_text_color': '000000', 'profile_use_background_image': True, 'has_extended_profile': False, 'default_profile': False, 'default_profile_image': False, 'following': False, 'follow_request_sent': False, 'notifications': False, 'translator_type': 'regular'}, 'geo': None, 'coordinates': None, 'place': None, 'contributors': None, 'is_quote_status': False, 'retweet_count': 0, 'favorite_count': 2, 'favorited': False, 'retweeted': False, 'lang': 'en'}, created_at=datetime.datetime(2021, 2, 2, 18, 55, 54), id=1356677745338638338, id_str='1356677745338638338', full_text=\"@Target Don't have to tell me twice💆💅📘\", truncated=False, display_text_range=[8, 38], entities={'hashtags': [], 'symbols': [], 'user_mentions': [{'screen_name': 'Target', 'name': 'Target', 'id': 89084561, 'id_str': '89084561', 'indices': [0, 7]}], 'urls': []}, source='Twitter Web App', source_url='https://mobile.twitter.com', in_reply_to_status_id=1356675091820609537, in_reply_to_status_id_str='1356675091820609537', in_reply_to_user_id=89084561, in_reply_to_user_id_str='89084561', in_reply_to_screen_name='Target', author=User(_api=<tweepy.api.API object at 0x0000015BCCFACBE0>, _json={'id': 19005152, 'id_str': '19005152', 'name': 'Barbie', 'screen_name': 'Barbie', 'location': 'Malibu, CA', 'description': 'https://t.co/NxW1qyhXYm', 'url': None, 'entities': {'description': {'urls': [{'url': 'https://t.co/NxW1qyhXYm', 'expanded_url': 'http://barbie.com/diversity', 'display_url': 'barbie.com/diversity', 'indices': [0, 23]}]}}, 'protected': False, 'followers_count': 280114, 'friends_count': 359, 'listed_count': 1275, 'created_at': 'Thu Jan 15 01:20:18 +0000 2009', 'favourites_count': 10294, 'utc_offset': None, 'time_zone': None, 'geo_enabled': True, 'verified': True, 'statuses_count': 11074, 'lang': None, 'contributors_enabled': False, 'is_translator': False, 'is_translation_enabled': False, 'profile_background_color': 'FFFFFF', 'profile_background_image_url': 'http://abs.twimg.com/images/themes/theme1/bg.png', 'profile_background_image_url_https': 'https://abs.twimg.com/images/themes/theme1/bg.png', 'profile_background_tile': True, 'profile_image_url': 'http://pbs.twimg.com/profile_images/1356305724935000064/Guzq57cm_normal.jpg', 'profile_image_url_https': 'https://pbs.twimg.com/profile_images/1356305724935000064/Guzq57cm_normal.jpg', 'profile_banner_url': 'https://pbs.twimg.com/profile_banners/19005152/1612203459', 'profile_link_color': 'E0218A', 'profile_sidebar_border_color': 'FFFFFF', 'profile_sidebar_fill_color': 'F8A5CF', 'profile_text_color': '000000', 'profile_use_background_image': True, 'has_extended_profile': False, 'default_profile': False, 'default_profile_image': False, 'following': False, 'follow_request_sent': False, 'notifications': False, 'translator_type': 'regular'}, id=19005152, id_str='19005152', name='Barbie', screen_name='Barbie', location='Malibu, CA', description='https://t.co/NxW1qyhXYm', url=None, entities={'description': {'urls': [{'url': 'https://t.co/NxW1qyhXYm', 'expanded_url': 'http://barbie.com/diversity', 'display_url': 'barbie.com/diversity', 'indices': [0, 23]}]}}, protected=False, followers_count=280114, friends_count=359, listed_count=1275, created_at=datetime.datetime(2009, 1, 15, 1, 20, 18), favourites_count=10294, utc_offset=None, time_zone=None, geo_enabled=True, verified=True, statuses_count=11074, lang=None, contributors_enabled=False, is_translator=False, is_translation_enabled=False, profile_background_color='FFFFFF', profile_background_image_url='http://abs.twimg.com/images/themes/theme1/bg.png', profile_background_image_url_https='https://abs.twimg.com/images/themes/theme1/bg.png', profile_background_tile=True, profile_image_url='http://pbs.twimg.com/profile_images/1356305724935000064/Guzq57cm_normal.jpg', profile_image_url_https='https://pbs.twimg.com/profile_images/1356305724935000064/Guzq57cm_normal.jpg', profile_banner_url='https://pbs.twimg.com/profile_banners/19005152/1612203459', profile_link_color='E0218A', profile_sidebar_border_color='FFFFFF', profile_sidebar_fill_color='F8A5CF', profile_text_color='000000', profile_use_background_image=True, has_extended_profile=False, default_profile=False, default_profile_image=False, following=False, follow_request_sent=False, notifications=False, translator_type='regular'), user=User(_api=<tweepy.api.API object at 0x0000015BCCFACBE0>, _json={'id': 19005152, 'id_str': '19005152', 'name': 'Barbie', 'screen_name': 'Barbie', 'location': 'Malibu, CA', 'description': 'https://t.co/NxW1qyhXYm', 'url': None, 'entities': {'description': {'urls': [{'url': 'https://t.co/NxW1qyhXYm', 'expanded_url': 'http://barbie.com/diversity', 'display_url': 'barbie.com/diversity', 'indices': [0, 23]}]}}, 'protected': False, 'followers_count': 280114, 'friends_count': 359, 'listed_count': 1275, 'created_at': 'Thu Jan 15 01:20:18 +0000 2009', 'favourites_count': 10294, 'utc_offset': None, 'time_zone': None, 'geo_enabled': True, 'verified': True, 'statuses_count': 11074, 'lang': None, 'contributors_enabled': False, 'is_translator': False, 'is_translation_enabled': False, 'profile_background_color': 'FFFFFF', 'profile_background_image_url': 'http://abs.twimg.com/images/themes/theme1/bg.png', 'profile_background_image_url_https': 'https://abs.twimg.com/images/themes/theme1/bg.png', 'profile_background_tile': True, 'profile_image_url': 'http://pbs.twimg.com/profile_images/1356305724935000064/Guzq57cm_normal.jpg', 'profile_image_url_https': 'https://pbs.twimg.com/profile_images/1356305724935000064/Guzq57cm_normal.jpg', 'profile_banner_url': 'https://pbs.twimg.com/profile_banners/19005152/1612203459', 'profile_link_color': 'E0218A', 'profile_sidebar_border_color': 'FFFFFF', 'profile_sidebar_fill_color': 'F8A5CF', 'profile_text_color': '000000', 'profile_use_background_image': True, 'has_extended_profile': False, 'default_profile': False, 'default_profile_image': False, 'following': False, 'follow_request_sent': False, 'notifications': False, 'translator_type': 'regular'}, id=19005152, id_str='19005152', name='Barbie', screen_name='Barbie', location='Malibu, CA', description='https://t.co/NxW1qyhXYm', url=None, entities={'description': {'urls': [{'url': 'https://t.co/NxW1qyhXYm', 'expanded_url': 'http://barbie.com/diversity', 'display_url': 'barbie.com/diversity', 'indices': [0, 23]}]}}, protected=False, followers_count=280114, friends_count=359, listed_count=1275, created_at=datetime.datetime(2009, 1, 15, 1, 20, 18), favourites_count=10294, utc_offset=None, time_zone=None, geo_enabled=True, verified=True, statuses_count=11074, lang=None, contributors_enabled=False, is_translator=False, is_translation_enabled=False, profile_background_color='FFFFFF', profile_background_image_url='http://abs.twimg.com/images/themes/theme1/bg.png', profile_background_image_url_https='https://abs.twimg.com/images/themes/theme1/bg.png', profile_background_tile=True, profile_image_url='http://pbs.twimg.com/profile_images/1356305724935000064/Guzq57cm_normal.jpg', profile_image_url_https='https://pbs.twimg.com/profile_images/1356305724935000064/Guzq57cm_normal.jpg', profile_banner_url='https://pbs.twimg.com/profile_banners/19005152/1612203459', profile_link_color='E0218A', profile_sidebar_border_color='FFFFFF', profile_sidebar_fill_color='F8A5CF', profile_text_color='000000', profile_use_background_image=True, has_extended_profile=False, default_profile=False, default_profile_image=False, following=False, follow_request_sent=False, notifications=False, translator_type='regular'), geo=None, coordinates=None, place=None, contributors=None, is_quote_status=False, retweet_count=0, favorite_count=2, favorited=False, retweeted=False, lang='en')\n"
     ]
    }
   ],
   "source": [
    "import tweepy\n",
    "from APIKey import API_KEY,API_SECRET,ACCESS_TOKEN,ACCESS_SECRET\n",
    "\n",
    "auth = tweepy.OAuthHandler(API_KEY, API_SECRET)\n",
    "auth.set_access_token(ACCESS_TOKEN,ACCESS_SECRET)\n",
    "api=tweepy.API(auth)\n",
    "\n",
    "barbietweets= api.user_timeline('barbie', count =50, tweet_mode='extended')\n",
    "import pickle\n",
    "with open ('barbietweets-2021.pkl','wb') as f:\n",
    "    pickle.dump(barbietweets,f)\n",
    "print(barbietweets[0])"
   ]
  },
  {
   "cell_type": "code",
   "execution_count": 13,
   "id": "unusual-childhood",
   "metadata": {},
   "outputs": [
    {
     "data": {
      "text/plain": [
       "\"@Target Don't have to tell me twice💆💅📘\""
      ]
     },
     "execution_count": 13,
     "metadata": {},
     "output_type": "execute_result"
    }
   ],
   "source": [
    "import pickle\n",
    "with open('barbietweets-2021.pkl','rb') as f:\n",
    "    dolltweets=pickle.load(f)\n",
    "dolltweets[0].full_text"
   ]
  },
  {
   "cell_type": "code",
   "execution_count": null,
   "id": "atmospheric-bristol",
   "metadata": {},
   "outputs": [],
   "source": []
  }
 ],
 "metadata": {
  "kernelspec": {
   "display_name": "Python 3",
   "language": "python",
   "name": "python3"
  },
  "language_info": {
   "codemirror_mode": {
    "name": "ipython",
    "version": 3
   },
   "file_extension": ".py",
   "mimetype": "text/x-python",
   "name": "python",
   "nbconvert_exporter": "python",
   "pygments_lexer": "ipython3",
   "version": "3.8.7"
  }
 },
 "nbformat": 4,
 "nbformat_minor": 5
}
